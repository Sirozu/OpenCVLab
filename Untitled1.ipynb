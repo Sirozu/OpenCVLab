{
 "cells": [
  {
   "cell_type": "code",
   "execution_count": 66,
   "metadata": {
    "collapsed": false
   },
   "outputs": [],
   "source": [
    "import sys\n",
    "\n",
    "import PIL\n",
    "from PIL import Image\n",
    "from PIL import ImageTk\n",
    "\n",
    "import tkinter as tk\n",
    "import tkinter.filedialog as fd\n",
    "\n",
    "import numpy as np\n",
    "\n",
    "import matplotlib.pyplot as plt\n",
    "\n"
   ]
  },
  {
   "cell_type": "code",
   "execution_count": 77,
   "metadata": {
    "collapsed": false
   },
   "outputs": [],
   "source": [
    "def select_image():    \n",
    "    global panelA, panelB\n",
    "    global root\n",
    "    \n",
    "    path = \"Image.jpg\"  #fd.askopenfilename()\n",
    "    if len(path) > 0:\n",
    "     \n",
    "    \n",
    "        image = Image.open(path)\n",
    "        image = tk.PhotoImage(image)\n",
    "    \n",
    "    # if the panels are None, initialize them\n",
    "        if panelA is None or panelB is None:\n",
    "        # the first panel will store our original image\n",
    "            panelA = tk.Label(root, bitmap=image)\n",
    "            panelA.image = image\n",
    "            panelA.pack(side=\"left\", padx=10, pady=10)\n",
    "\n",
    "\t# while the second panel will store the edge map\n",
    "            panelB = tk.Label()\n",
    "            panelB.image = image\n",
    "            panelB.pack(side=\"right\", padx=10, pady=10)\n",
    "\n",
    "# otherwise, update the image panels\n",
    "        else:\n",
    "\t# update the pannels\n",
    "            panelA.configure()\n",
    "            panelB.configure()\n",
    "            panelA.image = image\n",
    "            panelB.image = image\n",
    "\n"
   ]
  },
  {
   "cell_type": "code",
   "execution_count": 78,
   "metadata": {
    "collapsed": false
   },
   "outputs": [
    {
     "name": "stderr",
     "output_type": "stream",
     "text": [
      "Exception in Tkinter callback\n",
      "Traceback (most recent call last):\n",
      "  File \"C:\\ProgramData\\Anaconda3\\lib\\tkinter\\__init__.py\", line 1699, in __call__\n",
      "    return self.func(*args)\n",
      "  File \"<ipython-input-77-93c12c50ffd5>\", line 15, in select_image\n",
      "    panelA = tk.Label(root, bitmap=image)\n",
      "  File \"C:\\ProgramData\\Anaconda3\\lib\\tkinter\\__init__.py\", line 2760, in __init__\n",
      "    Widget.__init__(self, master, 'label', cnf, kw)\n",
      "  File \"C:\\ProgramData\\Anaconda3\\lib\\tkinter\\__init__.py\", line 2293, in __init__\n",
      "    (widgetName, self._w) + extra + self._options(cnf))\n",
      "TypeError: __str__ returned non-string (type JpegImageFile)\n"
     ]
    }
   ],
   "source": [
    "root = tk.Tk()\n",
    "panelA = None\n",
    "panelB = None\n",
    "\n",
    "btn = tk.Button(root, text=\"Select an image\", command=select_image)\n",
    "btn.pack(side=\"bottom\", fill=\"both\", expand=\"yes\", padx=\"10\", pady=\"10\")\n",
    "\n",
    "# kick off the GUI\n",
    "root.mainloop()"
   ]
  },
  {
   "cell_type": "code",
   "execution_count": 1,
   "metadata": {
    "collapsed": false
   },
   "outputs": [],
   "source": [
    "from tkinter import *\n",
    "from PIL import ImageTk, Image\n",
    "\n",
    "root = Tk()\n",
    "root.geometry('1000x1000')\n",
    "canvas = Canvas(root,width=999,height=999)\n",
    "canvas.pack()\n",
    "pilImage = Image.open(\"image.jpg\")\n",
    "image = ImageTk.PhotoImage(pilImage)\n",
    "imagesprite = canvas.create_image(400,400,image=image)\n",
    "root.mainloop()"
   ]
  },
  {
   "cell_type": "code",
   "execution_count": null,
   "metadata": {
    "collapsed": true
   },
   "outputs": [],
   "source": []
  }
 ],
 "metadata": {
  "kernelspec": {
   "display_name": "Python 3",
   "language": "python",
   "name": "python3"
  },
  "language_info": {
   "codemirror_mode": {
    "name": "ipython",
    "version": 3
   },
   "file_extension": ".py",
   "mimetype": "text/x-python",
   "name": "python",
   "nbconvert_exporter": "python",
   "pygments_lexer": "ipython3",
   "version": "3.6.0"
  }
 },
 "nbformat": 4,
 "nbformat_minor": 2
}
